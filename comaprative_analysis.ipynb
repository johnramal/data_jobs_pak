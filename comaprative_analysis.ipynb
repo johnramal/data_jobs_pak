{
 "cells": [
  {
   "cell_type": "markdown",
   "metadata": {},
   "source": [
    "# Comparative Analysis of Data Job Postings in Selected Countries\n",
    "\n",
    "This notebook is part of the `data_jobs_pk` project and aims to conduct a comparative analysis of data-related job postings with a central focus on Pakistan. We will explore required skills, top hiring companies, and the benefits offered by companies in Pakistan and compare them with selected countries.\n",
    "\n",
    "## Introduction\n",
    "\n",
    "Data jobs are becoming increasingly crucial as businesses and organizations rely more on data-driven decision-making. Understanding the job market for data professionals in Pakistan, along with comparisons to other relevant countries, can provide valuable insights into global trends, regional strengths, and areas for improvement.\n",
    "\n",
    "In this analysis, we will:\n",
    "- Investigate the required skills for data-related jobs in Pakistan.\n",
    "- Identify the top companies hiring for these roles in Pakistan.\n",
    "- Analyze the benefits offered to data professionals by companies in Pakistan.\n",
    "- Compare these aspects with Turkey, Bangladesh, Nigeria, and Egypt to understand regional similarities and differences.\n",
    "\n",
    "## Justification for Including Comparison Countries\n",
    "\n",
    "While the primary focus of this analysis is on Pakistan, the inclusion of Turkey, Bangladesh, Nigeria, and Egypt allows us to:\n",
    "- **Understand Regional Trends**: Comparing Pakistan with these countries helps identify common trends and differences in the data job market within the region.\n",
    "- **Highlight Regional Strengths**: By analyzing similar countries, we can highlight strengths and areas for improvement specific to Pakistan’s data job market.\n",
    "- **Benchmark Against Peers**: This comparison will provide a benchmark for Pakistan’s job market relative to other countries with similar economic and demographic profiles.\n",
    "\n",
    "### Turkey\n",
    "- **Strategic Location and Growing Tech Sector**: Turkey’s position as a bridge between Europe and Asia and its expanding tech industry make it a relevant comparison point.\n",
    "- **Tech-Savvy Population**: The high rate of internet penetration and tech-savvy population provide a useful benchmark for understanding data job trends.\n",
    "\n",
    "### Bangladesh\n",
    "- **Rapid Economic Growth and ICT Development**: Bangladesh’s rapid economic growth and focus on ICT sector development make it a significant point of comparison.\n",
    "- **Young Workforce**: A young and dynamic workforce in Bangladesh offers insights into similar workforce trends in Pakistan.\n",
    "\n",
    "### Nigeria\n",
    "- **Largest Economy in Africa and Innovation**: As Africa’s largest economy with a vibrant tech startup ecosystem, Nigeria provides a useful comparison for analyzing data job market dynamics.\n",
    "- **Youthful Population**: The youthful population in Nigeria is comparable to Pakistan’s demographic profile.\n",
    "\n",
    "### Egypt\n",
    "- **Tech Hub of North Africa and Government Support**: Egypt’s status as a tech hub and its supportive government initiatives offer valuable insights into the regional tech landscape.\n",
    "- **Skilled Workforce**: A skilled workforce in Egypt provides a relevant comparison for understanding the potential talent pool in Pakistan.\n",
    "\n",
    "This comparative analysis aims to provide a comprehensive view of the data-related job market, with Pakistan at the center of focus, while examining relevant regional trends through these selected countries.\n"
   ]
  },
  {
   "cell_type": "markdown",
   "metadata": {},
   "source": []
  },
  {
   "cell_type": "code",
   "execution_count": 13,
   "metadata": {},
   "outputs": [],
   "source": [
    "# import required libraries\n",
    "import pandas as pd\n",
    "import numpy as np\n",
    "import matplotlib.pyplot as plt\n",
    "import seaborn as sns\n",
    "import warnings\n",
    "\n",
    "# Suppress warnings\n",
    "warnings.filterwarnings('ignore')\n",
    "\n",
    "df = pd.read_csv('df_comparison_countries.csv')"
   ]
  },
  {
   "cell_type": "code",
   "execution_count": 14,
   "metadata": {},
   "outputs": [
    {
     "name": "stdout",
     "output_type": "stream",
     "text": [
      "<class 'pandas.core.frame.DataFrame'>\n",
      "RangeIndex: 4957 entries, 0 to 4956\n",
      "Data columns (total 17 columns):\n",
      " #   Column                 Non-Null Count  Dtype  \n",
      "---  ------                 --------------  -----  \n",
      " 0   job_title_short        4957 non-null   object \n",
      " 1   job_title              4957 non-null   object \n",
      " 2   job_location           4957 non-null   object \n",
      " 3   job_via                4957 non-null   object \n",
      " 4   job_schedule_type      4950 non-null   object \n",
      " 5   job_work_from_home     4957 non-null   bool   \n",
      " 6   search_location        4957 non-null   object \n",
      " 7   job_posted_date        4957 non-null   object \n",
      " 8   job_no_degree_mention  4957 non-null   bool   \n",
      " 9   job_health_insurance   4957 non-null   bool   \n",
      " 10  job_country            4957 non-null   object \n",
      " 11  salary_rate            50 non-null     object \n",
      " 12  salary_year_avg        43 non-null     float64\n",
      " 13  salary_hour_avg        1 non-null      float64\n",
      " 14  company_name           4956 non-null   object \n",
      " 15  job_skills             4078 non-null   object \n",
      " 16  job_type_skills        4078 non-null   object \n",
      "dtypes: bool(3), float64(2), object(12)\n",
      "memory usage: 556.8+ KB\n"
     ]
    }
   ],
   "source": [
    "df.info()"
   ]
  },
  {
   "cell_type": "code",
   "execution_count": 5,
   "metadata": {},
   "outputs": [
    {
     "data": {
      "text/plain": [
       "['.git',\n",
       " 'comaprative_analysis.ipynb',\n",
       " 'df_comparison_countries.csv',\n",
       " 'df_pak.csv',\n",
       " 'eda.ipynb',\n",
       " 'readme.md',\n",
       " 'skill_preferences.ipynb']"
      ]
     },
     "execution_count": 5,
     "metadata": {},
     "output_type": "execute_result"
    }
   ],
   "source": [
    "os.listdir()"
   ]
  },
  {
   "cell_type": "code",
   "execution_count": null,
   "metadata": {},
   "outputs": [],
   "source": []
  }
 ],
 "metadata": {
  "kernelspec": {
   "display_name": "data_jobs_pk",
   "language": "python",
   "name": "python3"
  },
  "language_info": {
   "codemirror_mode": {
    "name": "ipython",
    "version": 3
   },
   "file_extension": ".py",
   "mimetype": "text/x-python",
   "name": "python",
   "nbconvert_exporter": "python",
   "pygments_lexer": "ipython3",
   "version": "3.12.4"
  }
 },
 "nbformat": 4,
 "nbformat_minor": 2
}
