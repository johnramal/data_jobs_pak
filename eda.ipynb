{
 "cells": [
  {
   "cell_type": "markdown",
   "metadata": {},
   "source": [
    "# Exploratory Data Analysis (EDA)\n",
    "\n",
    "In this notebook, we will perform Exploratory Data Analysis (EDA) on the dataset obtained from [Luke Barousse's Hugging Face repository](https://huggingface.co/lukebarousse). The goal of this notebook is to clean and prepare the data for further analysis, focusing on data jobs. We will filter the dataset for Pakistan and a set of comparison countries, then save the results to CSV files for further analysis.\n",
    "\n",
    "### Steps:\n",
    "1. Import the dataset.\n",
    "2. Clean the data by removing duplicates and filtering for data-related jobs.\n",
    "3. Prepare and save two subsets of the data:\n",
    "   - Jobs in Pakistan\n",
    "   - Jobs in comparison countries (Turkey, Bangladesh, Nigeria, Egypt)\n"
   ]
  },
  {
   "cell_type": "markdown",
   "metadata": {},
   "source": [
    "## 1. IMPORT THE DATASET"
   ]
  },
  {
   "cell_type": "code",
   "execution_count": 45,
   "metadata": {},
   "outputs": [
    {
     "data": {
      "text/html": [
       "<div>\n",
       "<style scoped>\n",
       "    .dataframe tbody tr th:only-of-type {\n",
       "        vertical-align: middle;\n",
       "    }\n",
       "\n",
       "    .dataframe tbody tr th {\n",
       "        vertical-align: top;\n",
       "    }\n",
       "\n",
       "    .dataframe thead th {\n",
       "        text-align: right;\n",
       "    }\n",
       "</style>\n",
       "<table border=\"1\" class=\"dataframe\">\n",
       "  <thead>\n",
       "    <tr style=\"text-align: right;\">\n",
       "      <th></th>\n",
       "      <th>job_title_short</th>\n",
       "      <th>job_title</th>\n",
       "      <th>job_location</th>\n",
       "      <th>job_via</th>\n",
       "      <th>job_schedule_type</th>\n",
       "      <th>job_work_from_home</th>\n",
       "      <th>search_location</th>\n",
       "      <th>job_posted_date</th>\n",
       "      <th>job_no_degree_mention</th>\n",
       "      <th>job_health_insurance</th>\n",
       "      <th>job_country</th>\n",
       "      <th>salary_rate</th>\n",
       "      <th>salary_year_avg</th>\n",
       "      <th>salary_hour_avg</th>\n",
       "      <th>company_name</th>\n",
       "      <th>job_skills</th>\n",
       "      <th>job_type_skills</th>\n",
       "    </tr>\n",
       "  </thead>\n",
       "  <tbody>\n",
       "    <tr>\n",
       "      <th>0</th>\n",
       "      <td>Senior Data Engineer</td>\n",
       "      <td>Senior Clinical Data Engineer / Principal Clin...</td>\n",
       "      <td>Watertown, CT</td>\n",
       "      <td>via Work Nearby</td>\n",
       "      <td>Full-time</td>\n",
       "      <td>False</td>\n",
       "      <td>Texas, United States</td>\n",
       "      <td>2023-06-16 13:44:15</td>\n",
       "      <td>False</td>\n",
       "      <td>False</td>\n",
       "      <td>United States</td>\n",
       "      <td>None</td>\n",
       "      <td>NaN</td>\n",
       "      <td>NaN</td>\n",
       "      <td>Boehringer Ingelheim</td>\n",
       "      <td>None</td>\n",
       "      <td>None</td>\n",
       "    </tr>\n",
       "    <tr>\n",
       "      <th>1</th>\n",
       "      <td>Data Analyst</td>\n",
       "      <td>Data Analyst</td>\n",
       "      <td>Guadalajara, Jalisco, Mexico</td>\n",
       "      <td>via BeBee México</td>\n",
       "      <td>Full-time</td>\n",
       "      <td>False</td>\n",
       "      <td>Mexico</td>\n",
       "      <td>2023-01-14 13:18:07</td>\n",
       "      <td>False</td>\n",
       "      <td>False</td>\n",
       "      <td>Mexico</td>\n",
       "      <td>None</td>\n",
       "      <td>NaN</td>\n",
       "      <td>NaN</td>\n",
       "      <td>Hewlett Packard Enterprise</td>\n",
       "      <td>['r', 'python', 'sql', 'nosql', 'power bi', 't...</td>\n",
       "      <td>{'analyst_tools': ['power bi', 'tableau'], 'pr...</td>\n",
       "    </tr>\n",
       "    <tr>\n",
       "      <th>2</th>\n",
       "      <td>Data Engineer</td>\n",
       "      <td>Data Engineer/Scientist/Analyst, Mid or Senior...</td>\n",
       "      <td>Berlin, Germany</td>\n",
       "      <td>via LinkedIn</td>\n",
       "      <td>Full-time</td>\n",
       "      <td>False</td>\n",
       "      <td>Germany</td>\n",
       "      <td>2023-10-10 13:14:55</td>\n",
       "      <td>False</td>\n",
       "      <td>False</td>\n",
       "      <td>Germany</td>\n",
       "      <td>None</td>\n",
       "      <td>NaN</td>\n",
       "      <td>NaN</td>\n",
       "      <td>ALPHA Augmented Services</td>\n",
       "      <td>['python', 'sql', 'c#', 'azure', 'airflow', 'd...</td>\n",
       "      <td>{'analyst_tools': ['dax'], 'cloud': ['azure'],...</td>\n",
       "    </tr>\n",
       "    <tr>\n",
       "      <th>3</th>\n",
       "      <td>Data Engineer</td>\n",
       "      <td>LEAD ENGINEER - PRINCIPAL ANALYST - PRINCIPAL ...</td>\n",
       "      <td>San Antonio, TX</td>\n",
       "      <td>via Diversity.com</td>\n",
       "      <td>Full-time</td>\n",
       "      <td>False</td>\n",
       "      <td>Texas, United States</td>\n",
       "      <td>2023-07-04 13:01:41</td>\n",
       "      <td>True</td>\n",
       "      <td>False</td>\n",
       "      <td>United States</td>\n",
       "      <td>None</td>\n",
       "      <td>NaN</td>\n",
       "      <td>NaN</td>\n",
       "      <td>Southwest Research Institute</td>\n",
       "      <td>['python', 'c++', 'java', 'matlab', 'aws', 'te...</td>\n",
       "      <td>{'cloud': ['aws'], 'libraries': ['tensorflow',...</td>\n",
       "    </tr>\n",
       "    <tr>\n",
       "      <th>4</th>\n",
       "      <td>Data Engineer</td>\n",
       "      <td>Data Engineer- Sr Jobs</td>\n",
       "      <td>Washington, DC</td>\n",
       "      <td>via Clearance Jobs</td>\n",
       "      <td>Full-time</td>\n",
       "      <td>False</td>\n",
       "      <td>Sudan</td>\n",
       "      <td>2023-08-07 14:29:36</td>\n",
       "      <td>False</td>\n",
       "      <td>False</td>\n",
       "      <td>Sudan</td>\n",
       "      <td>None</td>\n",
       "      <td>NaN</td>\n",
       "      <td>NaN</td>\n",
       "      <td>Kristina Daniel</td>\n",
       "      <td>['bash', 'python', 'oracle', 'aws', 'ansible',...</td>\n",
       "      <td>{'cloud': ['oracle', 'aws'], 'other': ['ansibl...</td>\n",
       "    </tr>\n",
       "  </tbody>\n",
       "</table>\n",
       "</div>"
      ],
      "text/plain": [
       "        job_title_short                                          job_title  \\\n",
       "0  Senior Data Engineer  Senior Clinical Data Engineer / Principal Clin...   \n",
       "1          Data Analyst                                       Data Analyst   \n",
       "2         Data Engineer  Data Engineer/Scientist/Analyst, Mid or Senior...   \n",
       "3         Data Engineer  LEAD ENGINEER - PRINCIPAL ANALYST - PRINCIPAL ...   \n",
       "4         Data Engineer                             Data Engineer- Sr Jobs   \n",
       "\n",
       "                   job_location             job_via job_schedule_type  \\\n",
       "0                 Watertown, CT     via Work Nearby         Full-time   \n",
       "1  Guadalajara, Jalisco, Mexico    via BeBee México         Full-time   \n",
       "2               Berlin, Germany        via LinkedIn         Full-time   \n",
       "3               San Antonio, TX   via Diversity.com         Full-time   \n",
       "4                Washington, DC  via Clearance Jobs         Full-time   \n",
       "\n",
       "   job_work_from_home       search_location      job_posted_date  \\\n",
       "0               False  Texas, United States  2023-06-16 13:44:15   \n",
       "1               False                Mexico  2023-01-14 13:18:07   \n",
       "2               False               Germany  2023-10-10 13:14:55   \n",
       "3               False  Texas, United States  2023-07-04 13:01:41   \n",
       "4               False                 Sudan  2023-08-07 14:29:36   \n",
       "\n",
       "   job_no_degree_mention  job_health_insurance    job_country salary_rate  \\\n",
       "0                  False                 False  United States        None   \n",
       "1                  False                 False         Mexico        None   \n",
       "2                  False                 False        Germany        None   \n",
       "3                   True                 False  United States        None   \n",
       "4                  False                 False          Sudan        None   \n",
       "\n",
       "   salary_year_avg  salary_hour_avg                  company_name  \\\n",
       "0              NaN              NaN          Boehringer Ingelheim   \n",
       "1              NaN              NaN    Hewlett Packard Enterprise   \n",
       "2              NaN              NaN      ALPHA Augmented Services   \n",
       "3              NaN              NaN  Southwest Research Institute   \n",
       "4              NaN              NaN               Kristina Daniel   \n",
       "\n",
       "                                          job_skills  \\\n",
       "0                                               None   \n",
       "1  ['r', 'python', 'sql', 'nosql', 'power bi', 't...   \n",
       "2  ['python', 'sql', 'c#', 'azure', 'airflow', 'd...   \n",
       "3  ['python', 'c++', 'java', 'matlab', 'aws', 'te...   \n",
       "4  ['bash', 'python', 'oracle', 'aws', 'ansible',...   \n",
       "\n",
       "                                     job_type_skills  \n",
       "0                                               None  \n",
       "1  {'analyst_tools': ['power bi', 'tableau'], 'pr...  \n",
       "2  {'analyst_tools': ['dax'], 'cloud': ['azure'],...  \n",
       "3  {'cloud': ['aws'], 'libraries': ['tensorflow',...  \n",
       "4  {'cloud': ['oracle', 'aws'], 'other': ['ansibl...  "
      ]
     },
     "execution_count": 45,
     "metadata": {},
     "output_type": "execute_result"
    }
   ],
   "source": [
    "# import required libraries\n",
    "import pandas as pd\n",
    "import numpy as np\n",
    "import matplotlib.pyplot as plt\n",
    "import seaborn as sns\n",
    "import warnings\n",
    "\n",
    "# Suppress warnings\n",
    "warnings.filterwarnings('ignore')\n",
    "\n",
    "# get the required dataset\n",
    "from datasets import load_dataset\n",
    "dataset = load_dataset('lukebarousse/data_jobs')\n",
    "df = dataset['train'].to_pandas()\n",
    "\n",
    "df.head(5)"
   ]
  },
  {
   "cell_type": "markdown",
   "metadata": {},
   "source": [
    "## 2. Explore and Clean "
   ]
  },
  {
   "cell_type": "code",
   "execution_count": 46,
   "metadata": {},
   "outputs": [
    {
     "data": {
      "text/plain": [
       "array(['Senior Data Engineer', 'Data Analyst', 'Data Engineer',\n",
       "       'Business Analyst', 'Data Scientist', 'Machine Learning Engineer',\n",
       "       'Senior Data Analyst', 'Cloud Engineer', 'Senior Data Scientist',\n",
       "       'Software Engineer'], dtype=object)"
      ]
     },
     "execution_count": 46,
     "metadata": {},
     "output_type": "execute_result"
    }
   ],
   "source": [
    "#check for unique values in job_title_short\n",
    "df['job_title_short'].unique()"
   ]
  },
  {
   "cell_type": "markdown",
   "metadata": {},
   "source": [
    "There are jobs which are not directly realated to data. We will only include the data rows."
   ]
  },
  {
   "cell_type": "code",
   "execution_count": 47,
   "metadata": {},
   "outputs": [
    {
     "name": "stdout",
     "output_type": "stream",
     "text": [
      "['Senior Data Engineer' 'Data Analyst' 'Data Engineer' 'Business Analyst'\n",
      " 'Data Scientist' 'Machine Learning Engineer' 'Senior Data Analyst'\n",
      " 'Senior Data Scientist']\n"
     ]
    }
   ],
   "source": [
    "\n",
    "# Define a regular expression pattern to match \"Data\", \"Analyst\", or \"Machine Learning\" in job titles\n",
    "pattern = r'(Data|Analyst|Machine Learning)'\n",
    "\n",
    "# Filter the DataFrame based on 'job_title_short' containing 'Data', 'Analyst', or 'Machine Learning'\n",
    "df = df[df['job_title_short'].str.contains(pattern, case=False, na=False)]\n",
    "\n",
    "# Check the result\n",
    "print(df.job_title_short.unique())"
   ]
  },
  {
   "cell_type": "code",
   "execution_count": 48,
   "metadata": {},
   "outputs": [
    {
     "name": "stdout",
     "output_type": "stream",
     "text": [
      "job_title_short               0\n",
      "job_title                     1\n",
      "job_location                998\n",
      "job_via                       8\n",
      "job_schedule_type         12049\n",
      "job_work_from_home            0\n",
      "search_location               0\n",
      "job_posted_date               0\n",
      "job_no_degree_mention         0\n",
      "job_health_insurance          0\n",
      "job_country                  30\n",
      "salary_rate              696092\n",
      "salary_year_avg          707010\n",
      "salary_hour_avg          717944\n",
      "company_name                 15\n",
      "job_skills               106414\n",
      "job_type_skills          106414\n",
      "dtype: int64\n",
      ".............................................\n",
      "job_title_short               0\n",
      "job_title                     0\n",
      "job_location                997\n",
      "job_via                       8\n",
      "job_schedule_type         12048\n",
      "job_work_from_home            0\n",
      "search_location               0\n",
      "job_posted_date               0\n",
      "job_no_degree_mention         0\n",
      "job_health_insurance          0\n",
      "job_country                   0\n",
      "salary_rate              696062\n",
      "salary_year_avg          706980\n",
      "salary_hour_avg          717914\n",
      "company_name                 14\n",
      "job_skills               106406\n",
      "job_type_skills          106406\n",
      "dtype: int64\n"
     ]
    }
   ],
   "source": [
    "#check for na values specifically in job_country\n",
    "print(df.isna().sum())\n",
    "df= df.dropna(subset=['job_country'])\n",
    "print(\".............................................\")\n",
    "print(df.isna().sum())\n"
   ]
  },
  {
   "cell_type": "markdown",
   "metadata": {},
   "source": [
    "There were 30 posting without any specifc country associated."
   ]
  },
  {
   "cell_type": "markdown",
   "metadata": {},
   "source": [
    "We know that companies post same jobs on multiple sites, spamming our dataset. If the same job posting has same job_tite (long) and company name, we will consider this as same job and dop from further analysis."
   ]
  },
  {
   "cell_type": "code",
   "execution_count": 49,
   "metadata": {},
   "outputs": [
    {
     "name": "stdout",
     "output_type": "stream",
     "text": [
      "There were 266847 duplicated job posting in multiple sites\n"
     ]
    }
   ],
   "source": [
    "#handling same job posted on multiple sites\n",
    "length_df=len(df)\n",
    "lenght_spam_removed_df=len(df.drop_duplicates(subset=['job_title','company_name']))\n",
    "\n",
    "print('There were',length_df-lenght_spam_removed_df, 'duplicated job posting in multiple sites')\n",
    "\n",
    "#Remove spams\n",
    "df=df.drop_duplicates(subset=['job_title','company_name'])\n"
   ]
  },
  {
   "cell_type": "markdown",
   "metadata": {},
   "source": [
    "Removed 266847 duplicated jobs"
   ]
  },
  {
   "cell_type": "code",
   "execution_count": 50,
   "metadata": {},
   "outputs": [
    {
     "data": {
      "text/plain": [
       "job_title_short           object\n",
       "job_title                 object\n",
       "job_location              object\n",
       "job_via                   object\n",
       "job_schedule_type         object\n",
       "job_work_from_home          bool\n",
       "search_location           object\n",
       "job_posted_date           object\n",
       "job_no_degree_mention       bool\n",
       "job_health_insurance        bool\n",
       "job_country               object\n",
       "salary_rate               object\n",
       "salary_year_avg          float64\n",
       "salary_hour_avg          float64\n",
       "company_name              object\n",
       "job_skills                object\n",
       "job_type_skills           object\n",
       "dtype: object"
      ]
     },
     "execution_count": 50,
     "metadata": {},
     "output_type": "execute_result"
    }
   ],
   "source": [
    "#check datatypes\n",
    "df.dtypes"
   ]
  },
  {
   "cell_type": "code",
   "execution_count": 51,
   "metadata": {},
   "outputs": [
    {
     "data": {
      "text/plain": [
       "array([<class 'NoneType'>, <class 'str'>], dtype=object)"
      ]
     },
     "execution_count": 51,
     "metadata": {},
     "output_type": "execute_result"
    }
   ],
   "source": [
    "#check data types of job_skills\n",
    "unique_types = df['job_skills'].apply(type).unique()\n",
    "unique_types\n"
   ]
  },
  {
   "cell_type": "markdown",
   "metadata": {},
   "source": [
    "job_skills is shown as object(STRING) but it contains multiple skills and can be converted to list for skill demand analysis. Also, job_posted_date has incorrect datatype."
   ]
  },
  {
   "cell_type": "code",
   "execution_count": 52,
   "metadata": {},
   "outputs": [
    {
     "data": {
      "text/plain": [
       "job_title_short                  object\n",
       "job_title                        object\n",
       "job_location                     object\n",
       "job_via                          object\n",
       "job_schedule_type                object\n",
       "job_work_from_home                 bool\n",
       "search_location                  object\n",
       "job_posted_date          datetime64[ns]\n",
       "job_no_degree_mention              bool\n",
       "job_health_insurance               bool\n",
       "job_country                      object\n",
       "salary_rate                      object\n",
       "salary_year_avg                 float64\n",
       "salary_hour_avg                 float64\n",
       "company_name                     object\n",
       "job_skills                       object\n",
       "job_type_skills                  object\n",
       "dtype: object"
      ]
     },
     "execution_count": 52,
     "metadata": {},
     "output_type": "execute_result"
    }
   ],
   "source": [
    "#cleaning data\n",
    "import ast\n",
    "def convert_job_skills(x):\n",
    "    '''Convert string to list'''\n",
    "    try:\n",
    "        if pd.notna(x):\n",
    "            return ast.literal_eval(x)\n",
    "        else:\n",
    "            return x\n",
    "    except (ValueError, SyntaxError):\n",
    "        return x\n",
    "\n",
    "df['job_skills'] = df['job_skills'].apply(convert_job_skills)\n",
    "\n",
    "# Convert 'job_posted_date' column to datetime\n",
    "df['job_posted_date'] = pd.to_datetime(df['job_posted_date'])\n",
    "\n",
    "df.dtypes"
   ]
  },
  {
   "cell_type": "code",
   "execution_count": 53,
   "metadata": {},
   "outputs": [
    {
     "data": {
      "text/plain": [
       "array([<class 'NoneType'>, <class 'list'>], dtype=object)"
      ]
     },
     "execution_count": 53,
     "metadata": {},
     "output_type": "execute_result"
    }
   ],
   "source": [
    "#confim the conversion to list \n",
    "unique_types = df['job_skills'].apply(type).unique()\n",
    "unique_types"
   ]
  },
  {
   "cell_type": "markdown",
   "metadata": {},
   "source": [
    "It is confirmed that job_skills columns has been changed to list. (NoneType is for job postings without job_skills mentioned)"
   ]
  },
  {
   "cell_type": "markdown",
   "metadata": {},
   "source": [
    "## 3. Prepare and save"
   ]
  },
  {
   "cell_type": "markdown",
   "metadata": {},
   "source": [
    "Will only filter for comparison countries."
   ]
  },
  {
   "cell_type": "code",
   "execution_count": 57,
   "metadata": {},
   "outputs": [
    {
     "name": "stdout",
     "output_type": "stream",
     "text": [
      "Basic Statistics for Comparison Countries:\n",
      "            salary_year_avg          job_title_short\n",
      "                       mean      std           count\n",
      "job_country                                         \n",
      "Bangladesh          42750.0  37123.0             186\n",
      "Egypt               75847.4  19420.0            1794\n",
      "Nigeria            100741.1  34693.0             703\n",
      "Pakistan            69287.5  27970.0            1371\n",
      "Turkey              94692.6  32394.0             903\n",
      "Cleaned DataFrame for comparison countries saved to 'df_comparison_countries.csv'.\n"
     ]
    },
    {
     "data": {
      "image/png": "[encoded data removed]",
      "text/plain": [
       "<Figure size 1400x800 with 1 Axes>"
      ]
     },
     "metadata": {},
     "output_type": "display_data"
    }
   ],
   "source": [
    "# Define the countries for comparison\n",
    "comparison_countries = ['Pakistan', 'Turkey', 'Bangladesh', 'Nigeria', 'Egypt']\n",
    "\n",
    "# Filter the DataFrame for these countries\n",
    "df_comparison_countries = df[df['job_country'].isin(comparison_countries)]\n",
    "\n",
    "# Display basic statistics for the selected countries\n",
    "print(\"Basic Statistics for Comparison Countries:\")\n",
    "country_salary_stats = df_comparison_countries.groupby('job_country').agg({\n",
    "    'salary_year_avg': ['mean', 'std'],\n",
    "    'job_title_short': 'count'\n",
    "})\n",
    "\n",
    "# Rounding 'mean' and 'std' columns for 'salary_year_avg'\n",
    "country_salary_stats[('salary_year_avg', 'mean')] = country_salary_stats[('salary_year_avg', 'mean')].round(1)\n",
    "country_salary_stats[('salary_year_avg', 'std')] = country_salary_stats[('salary_year_avg', 'std')].round()\n",
    "\n",
    "print(country_salary_stats)\n",
    "\n",
    "# Save the cleaned DataFrame for comparison countries\n",
    "df_comparison_countries.to_csv('df_comparison_countries.csv', index=False, header=True)\n",
    "\n",
    "print(f\"Cleaned DataFrame for comparison countries saved to 'df_comparison_countries.csv'.\")\n",
    "\n",
    "#make boxplot to visualize\n",
    "plt.figure(figsize=(14, 8))\n",
    "sns.boxplot(data=df_comparison_countries, x='job_country', y='salary_year_avg')\n",
    "plt.title('Distribution of Annual Salaries by Country')\n",
    "plt.xlabel('Country')\n",
    "plt.ylabel('Average Annual Salary')\n",
    "plt.xticks(rotation=45)\n",
    "plt.show()"
   ]
  },
  {
   "cell_type": "markdown",
   "metadata": {},
   "source": [
    "This visualization seems to be non representative of respective coutries. "
   ]
  },
  {
   "cell_type": "code",
   "execution_count": 55,
   "metadata": {},
   "outputs": [
    {
     "name": "stdout",
     "output_type": "stream",
     "text": [
      "Pakistan has 10 non-null salary rows.\n",
      "Turkey has 12 non-null salary rows.\n",
      "Bangladesh has 2 non-null salary rows.\n",
      "Nigeria has 9 non-null salary rows.\n",
      "Egypt has 10 non-null salary rows.\n"
     ]
    }
   ],
   "source": [
    "# Iterate over each country and print the number of non-null salary rows\n",
    "for country in comparison_countries:\n",
    "    country_df = df[df['job_country'] == country]\n",
    "    non_null_count = country_df['salary_year_avg'].notnull().sum()\n",
    "    print(f\"{country} has {non_null_count} non-null salary rows.\")\n"
   ]
  },
  {
   "cell_type": "markdown",
   "metadata": {},
   "source": [
    "We can not do any meaningfull analysis with this amout of available data"
   ]
  },
  {
   "cell_type": "markdown",
   "metadata": {},
   "source": [
    "Filter only for Pakistan"
   ]
  },
  {
   "cell_type": "code",
   "execution_count": 56,
   "metadata": {},
   "outputs": [],
   "source": [
    "# Filter the DataFrame for Pakistan\n",
    "df_pakistan = df[df['job_country'] == 'Pakistan']\n",
    "# Save the cleaned DataFrame for Pakistan\n",
    "df_pakistan.to_csv('df_pak.csv', index=False, header=True)"
   ]
  }
 ],
 "metadata": {
  "kernelspec": {
   "display_name": "base",
   "language": "python",
   "name": "python3"
  },
  "language_info": {
   "codemirror_mode": {
    "name": "ipython",
    "version": 3
   },
   "file_extension": ".py",
   "mimetype": "text/x-python",
   "name": "python",
   "nbconvert_exporter": "python",
   "pygments_lexer": "ipython3",
   "version": "3.12.4"
  }
 },
 "nbformat": 4,
 "nbformat_minor": 2
}
